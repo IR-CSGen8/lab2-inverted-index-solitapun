{
 "cells": [
  {
   "cell_type": "code",
   "execution_count": 9,
   "id": "81d8d80a",
   "metadata": {},
   "outputs": [
    {
     "data": {
      "text/html": [
       "<div>\n",
       "<style scoped>\n",
       "    .dataframe tbody tr th:only-of-type {\n",
       "        vertical-align: middle;\n",
       "    }\n",
       "\n",
       "    .dataframe tbody tr th {\n",
       "        vertical-align: top;\n",
       "    }\n",
       "\n",
       "    .dataframe thead th {\n",
       "        text-align: right;\n",
       "    }\n",
       "</style>\n",
       "<table border=\"1\" class=\"dataframe\">\n",
       "  <thead>\n",
       "    <tr style=\"text-align: right;\">\n",
       "      <th></th>\n",
       "      <th>Document ID</th>\n",
       "      <th>Content</th>\n",
       "    </tr>\n",
       "  </thead>\n",
       "  <tbody>\n",
       "    <tr>\n",
       "      <th>0</th>\n",
       "      <td>1</td>\n",
       "      <td>{\\r\\n   \"title\": \"Introduction to Python\",\\r\\n...</td>\n",
       "    </tr>\n",
       "    <tr>\n",
       "      <th>1</th>\n",
       "      <td>2</td>\n",
       "      <td>{\\r\\n   \"title\": \"Data Analysis with Pandas\",\\...</td>\n",
       "    </tr>\n",
       "    <tr>\n",
       "      <th>2</th>\n",
       "      <td>3</td>\n",
       "      <td>{\\r\\n   \"title\": \"Web Development with Flask\",...</td>\n",
       "    </tr>\n",
       "    <tr>\n",
       "      <th>3</th>\n",
       "      <td>4</td>\n",
       "      <td>{\\r\\n   \"title\": \"Machine Learning with Scikit...</td>\n",
       "    </tr>\n",
       "    <tr>\n",
       "      <th>4</th>\n",
       "      <td>5</td>\n",
       "      <td>{\\r\\n   \"title\": \"Data Visualization with Matp...</td>\n",
       "    </tr>\n",
       "  </tbody>\n",
       "</table>\n",
       "</div>"
      ],
      "text/plain": [
       "   Document ID                                            Content\n",
       "0            1  {\\r\\n   \"title\": \"Introduction to Python\",\\r\\n...\n",
       "1            2  {\\r\\n   \"title\": \"Data Analysis with Pandas\",\\...\n",
       "2            3  {\\r\\n   \"title\": \"Web Development with Flask\",...\n",
       "3            4  {\\r\\n   \"title\": \"Machine Learning with Scikit...\n",
       "4            5  {\\r\\n   \"title\": \"Data Visualization with Matp..."
      ]
     },
     "execution_count": 9,
     "metadata": {},
     "output_type": "execute_result"
    }
   ],
   "source": [
    "# Import necessary libraries\n",
    "import pandas as pd\n",
    "import json\n",
    "\n",
    "# Load the CSV dataset\n",
    "df = pd.read_csv(\"semi_strut.csv\")\n",
    "\n",
    "# Display the first few rows of the dataset\n",
    "df.head(5)"
   ]
  },
  {
   "cell_type": "code",
   "execution_count": 75,
   "id": "a5ea1871",
   "metadata": {},
   "outputs": [
    {
     "name": "stdout",
     "output_type": "stream",
     "text": [
      "[{'title': 'Introduction to Python', 'author': 'John Doe', 'date': '2023-01-15', 'keywords': ['Python', 'programming', 'beginner'], 'sections': [{'title': 'Getting Started', 'content': 'Python is a versatile programming language...'}, {'title': 'Basic Syntax', 'content': 'Python syntax is easy to understand...'}]}, {'title': 'Data Analysis with Pandas', 'author': 'Jane Smith', 'date': '2023-02-20', 'keywords': ['Python', 'Pandas', 'data analysis'], 'sections': [{'title': 'Introduction to Pandas', 'content': 'Pandas is a popular library for data analysis...'}, {'title': 'DataFrames', 'content': 'DataFrames are a core data structure in Pandas...'}]}, {'title': 'Web Development with Flask', 'author': 'Mike Johnson', 'date': '2023-03-10', 'keywords': ['Python', 'Flask', 'web development'], 'sections': [{'title': 'Getting Started with Flask', 'content': 'Flask is a lightweight web framework for Python...'}, {'title': 'Routing', 'content': 'Routing in Flask defines URL patterns and views...'}]}, {'title': 'Machine Learning with Scikit-Learn', 'author': 'Emily Davis', 'date': '2023-04-05', 'keywords': ['Python', 'machine learning', 'Scikit-Learn'], 'sections': [{'title': 'Introduction to Machine Learning', 'content': 'Machine learning is a subfield of artificial intelligence...'}, {'title': 'Supervised Learning', 'content': 'Supervised learning is a type of machine learning...'}]}, {'title': 'Data Visualization with Matplotlib', 'author': 'Robert Clark', 'date': '2023-05-20', 'keywords': ['Python', 'Matplotlib', 'data visualization'], 'sections': [{'title': 'Introduction to Matplotlib', 'content': 'Matplotlib is a versatile library for data visualization...'}, {'title': 'Creating Plots', 'content': 'Plots can be created in Matplotlib using various functions...'}]}]\n",
      "<class 'list'>\n",
      "Introduction to Python\n",
      "['Python', 'programming', 'beginner']\n",
      "Data Analysis with Pandas\n",
      "['Python', 'Pandas', 'data analysis']\n",
      "Web Development with Flask\n",
      "['Python', 'Flask', 'web development']\n",
      "Machine Learning with Scikit-Learn\n",
      "['Python', 'machine learning', 'Scikit-Learn']\n",
      "Data Visualization with Matplotlib\n",
      "['Python', 'Matplotlib', 'data visualization']\n"
     ]
    }
   ],
   "source": [
    "# Tokenization function to extract terms from the JSON-like content\n",
    "# Remember to exact both \n",
    "# 1 .Extract terms from various fields (title, keywords, and content)\n",
    "\n",
    "json_column = df['Content'].values\n",
    "type(json_column)\n",
    "json_column\n",
    "# str = json_column.to_string()\n",
    "# type(str)\n",
    "# str\n",
    "\n",
    "list_content = []\n",
    "\n",
    "for row in json_column:\n",
    "    list_content.append(json.loads(row))\n",
    "print(list_content)\n",
    "print(type(list_content))\n",
    "# data_dict = json.loads(json_column)\n",
    "# data_dict\n",
    "\n",
    "for content in list_content:\n",
    "    print(content['title'])    \n",
    "    print(content['keywords'])   \n",
    "      \n",
    "\n",
    "\n",
    "\n",
    "\n",
    "# 2. Extract terms from sections' titles and content\n",
    "# 3. Tokenize the content and create a new column \"Terms\"\n",
    "# 4. Implement a preprocessing function that converts terms to lowercase, removes punctuation, and removes common stop words.\n",
    "    # Create another new column \"Terms_preprocessed\"\n",
    "# 5. you can display the DataFrame\n",
    "# def tokenize_content(content):"
   ]
  },
  {
   "cell_type": "code",
   "execution_count": 11,
   "id": "27def6ed",
   "metadata": {},
   "outputs": [],
   "source": [
    "# "
   ]
  },
  {
   "cell_type": "code",
   "execution_count": 12,
   "id": "131fdcaf",
   "metadata": {},
   "outputs": [],
   "source": [
    "# Initialize an empty inverted index dictionary\n",
    "# Build the inverted index"
   ]
  },
  {
   "cell_type": "code",
   "execution_count": 13,
   "id": "4824b570",
   "metadata": {},
   "outputs": [],
   "source": [
    "# Initialize an empty inverted index dictionary the extracted terms "
   ]
  },
  {
   "cell_type": "code",
   "execution_count": 14,
   "id": "1b929397",
   "metadata": {},
   "outputs": [],
   "source": [
    "# perform boolean operations on postings lists for Boolean search operations\n",
    "# 1. \"Python\" OR \"Pandas\"\n",
    "# 2. \"Python\" AND \"data\""
   ]
  },
  {
   "cell_type": "code",
   "execution_count": null,
   "id": "80680485",
   "metadata": {},
   "outputs": [],
   "source": []
  }
 ],
 "metadata": {
  "kernelspec": {
   "display_name": "my-conda-env",
   "language": "python",
   "name": "my-conda-env"
  },
  "language_info": {
   "codemirror_mode": {
    "name": "ipython",
    "version": 3
   },
   "file_extension": ".py",
   "mimetype": "text/x-python",
   "name": "python",
   "nbconvert_exporter": "python",
   "pygments_lexer": "ipython3",
   "version": "3.9.2"
  }
 },
 "nbformat": 4,
 "nbformat_minor": 5
}
