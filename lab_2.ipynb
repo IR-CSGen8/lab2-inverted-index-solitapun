{
 "cells": [
  {
   "cell_type": "code",
   "execution_count": 28,
   "id": "81d8d80a",
   "metadata": {},
   "outputs": [
    {
     "data": {
      "text/html": [
       "<div>\n",
       "<style scoped>\n",
       "    .dataframe tbody tr th:only-of-type {\n",
       "        vertical-align: middle;\n",
       "    }\n",
       "\n",
       "    .dataframe tbody tr th {\n",
       "        vertical-align: top;\n",
       "    }\n",
       "\n",
       "    .dataframe thead th {\n",
       "        text-align: right;\n",
       "    }\n",
       "</style>\n",
       "<table border=\"1\" class=\"dataframe\">\n",
       "  <thead>\n",
       "    <tr style=\"text-align: right;\">\n",
       "      <th></th>\n",
       "      <th>Document ID</th>\n",
       "      <th>Content</th>\n",
       "    </tr>\n",
       "  </thead>\n",
       "  <tbody>\n",
       "    <tr>\n",
       "      <th>0</th>\n",
       "      <td>1</td>\n",
       "      <td>{\\r\\n   \"title\": \"Introduction to Python\",\\r\\n...</td>\n",
       "    </tr>\n",
       "    <tr>\n",
       "      <th>1</th>\n",
       "      <td>2</td>\n",
       "      <td>{\\r\\n   \"title\": \"Data Analysis with Pandas\",\\...</td>\n",
       "    </tr>\n",
       "    <tr>\n",
       "      <th>2</th>\n",
       "      <td>3</td>\n",
       "      <td>{\\r\\n   \"title\": \"Web Development with Flask\",...</td>\n",
       "    </tr>\n",
       "    <tr>\n",
       "      <th>3</th>\n",
       "      <td>4</td>\n",
       "      <td>{\\r\\n   \"title\": \"Machine Learning with Scikit...</td>\n",
       "    </tr>\n",
       "    <tr>\n",
       "      <th>4</th>\n",
       "      <td>5</td>\n",
       "      <td>{\\r\\n   \"title\": \"Data Visualization with Matp...</td>\n",
       "    </tr>\n",
       "  </tbody>\n",
       "</table>\n",
       "</div>"
      ],
      "text/plain": [
       "   Document ID                                            Content\n",
       "0            1  {\\r\\n   \"title\": \"Introduction to Python\",\\r\\n...\n",
       "1            2  {\\r\\n   \"title\": \"Data Analysis with Pandas\",\\...\n",
       "2            3  {\\r\\n   \"title\": \"Web Development with Flask\",...\n",
       "3            4  {\\r\\n   \"title\": \"Machine Learning with Scikit...\n",
       "4            5  {\\r\\n   \"title\": \"Data Visualization with Matp..."
      ]
     },
     "execution_count": 28,
     "metadata": {},
     "output_type": "execute_result"
    }
   ],
   "source": [
    "# Import necessary libraries\n",
    "import pandas as pd\n",
    "import json\n",
    "import string\n",
    "\n",
    "# Load the CSV dataset\n",
    "df = pd.read_csv(\"semi_strut.csv\")\n",
    "\n",
    "# Display the first few rows of the dataset\n",
    "df.head(5)"
   ]
  },
  {
   "cell_type": "code",
   "execution_count": 29,
   "id": "a5ea1871",
   "metadata": {},
   "outputs": [
    {
     "name": "stdout",
     "output_type": "stream",
     "text": [
      "   Document ID                                            Content  \\\n",
      "0            1  {\\r\\n   \"title\": \"Introduction to Python\",\\r\\n...   \n",
      "1            2  {\\r\\n   \"title\": \"Data Analysis with Pandas\",\\...   \n",
      "2            3  {\\r\\n   \"title\": \"Web Development with Flask\",...   \n",
      "3            4  {\\r\\n   \"title\": \"Machine Learning with Scikit...   \n",
      "4            5  {\\r\\n   \"title\": \"Data Visualization with Matp...   \n",
      "\n",
      "                                     Terms  \n",
      "0               [Introduction, to, Python]  \n",
      "1           [Data, Analysis, with, Pandas]  \n",
      "2          [Web, Development, with, Flask]  \n",
      "3  [Machine, Learning, with, Scikit-Learn]  \n",
      "4  [Data, Visualization, with, Matplotlib]  \n"
     ]
    }
   ],
   "source": [
    "# Tokenization function to extract terms from the JSON-like content\n",
    "# Remember to exact both \n",
    "# 1 .Extract terms from various fields (title, keywords, and content)\n",
    "\n",
    "def tokenize_content(content):\n",
    "    content_dict = json.loads(content)\n",
    "    terms = []\n",
    "\n",
    "    #Extract terms from various fields (title, author)\n",
    "    terms.extend(content_dict.get(\"title\", \"\").split())\n",
    "    #terms.extend(content_dict.get(\"author\", \"\").split())\n",
    "\n",
    "    return terms\n",
    "# 2. Extract terms from sections' titles and content\n",
    "#\n",
    "\n",
    "# 3. Tokenize the content and create a new column \"Terms\"\n",
    "df[\"Terms\"] = df[\"Content\"].apply(tokenize_content)\n",
    "\n",
    "# Print the DataFrame with the \"Terms\" column\n",
    "print(df)\n",
    "\n",
    " \n"
   ]
  },
  {
   "cell_type": "code",
   "execution_count": 30,
   "id": "27def6ed",
   "metadata": {},
   "outputs": [
    {
     "name": "stdout",
     "output_type": "stream",
     "text": [
      "   Document ID                                            Content  \\\n",
      "0            1  {\\r\\n   \"title\": \"Introduction to Python\",\\r\\n...   \n",
      "1            2  {\\r\\n   \"title\": \"Data Analysis with Pandas\",\\...   \n",
      "2            3  {\\r\\n   \"title\": \"Web Development with Flask\",...   \n",
      "3            4  {\\r\\n   \"title\": \"Machine Learning with Scikit...   \n",
      "4            5  {\\r\\n   \"title\": \"Data Visualization with Matp...   \n",
      "\n",
      "                                     Terms                 Terms_preprocessed  \n",
      "0               [Introduction, to, Python]             [introduction, python]  \n",
      "1           [Data, Analysis, with, Pandas]           [data, analysis, pandas]  \n",
      "2          [Web, Development, with, Flask]          [web, development, flask]  \n",
      "3  [Machine, Learning, with, Scikit-Learn]  [machine, learning, scikit-learn]  \n",
      "4  [Data, Visualization, with, Matplotlib]  [data, visualization, matplotlib]  \n"
     ]
    }
   ],
   "source": [
    "# 4. Implement a preprocessing function that converts terms to lowercase, removes punctuation, and removes common stop words.\n",
    "    # Create another new column \"Terms_preprocessed\"\n",
    "\n",
    "def preprocess_terms(terms):\n",
    "    # Define a set of common stop words\n",
    "    stop_words = set([\n",
    "        \"a\", \"an\", \"the\", \"and\", \"is\", \"in\", \"it\", \"to\", \"of\", \"for\", \"on\", \"with\", \"as\"\n",
    "    ])\n",
    "    \n",
    "    # Remove punctuation and convert to lowercase\n",
    "    terms = [term.lower().strip(string.punctuation) for term in terms]\n",
    "    \n",
    "    # Remove stop words\n",
    "    terms = [term for term in terms if term not in stop_words]\n",
    "    \n",
    "    return terms\n",
    "\n",
    "# Apply the tokenization function to create the \"Terms\" column\n",
    "df[\"Terms\"] = df[\"Content\"].apply(tokenize_content)\n",
    "\n",
    "# Apply the preprocessing function to create the \"Terms_preprocessed\" column\n",
    "df[\"Terms_preprocessed\"] = df[\"Terms\"].apply(preprocess_terms)\n",
    "\n",
    "# 5. you can display the DataFrame\n",
    "print(df)\n",
    "\n"
   ]
  },
  {
   "cell_type": "code",
   "execution_count": 32,
   "id": "131fdcaf",
   "metadata": {},
   "outputs": [
    {
     "data": {
      "text/plain": [
       "{'introduction': {1},\n",
       " 'python': {1},\n",
       " 'data': {2, 5},\n",
       " 'analysis': {2},\n",
       " 'pandas': {2},\n",
       " 'web': {3},\n",
       " 'development': {3},\n",
       " 'flask': {3},\n",
       " 'machine': {4},\n",
       " 'learning': {4},\n",
       " 'scikit-learn': {4},\n",
       " 'visualization': {5},\n",
       " 'matplotlib': {5}}"
      ]
     },
     "execution_count": 32,
     "metadata": {},
     "output_type": "execute_result"
    }
   ],
   "source": [
    "# Initialize an empty inverted index dictionary\n",
    "# Build the inverted index\n",
    "# Initialize an empty inverted index dictionary\n",
    "inverted_index = {}\n",
    "\n",
    "# Build the inverted index\n",
    "for index, row in df.iterrows():\n",
    "    document_id = row[\"Document ID\"]\n",
    "    terms = row[\"Terms_preprocessed\"]\n",
    "    \n",
    "# Update the inverted index with terms and document IDs\n",
    "    for term in terms:\n",
    "        if term not in inverted_index:\n",
    "            inverted_index[term] = set()\n",
    "        inverted_index[term].add(document_id)\n",
    "\n",
    "# Display the inverted index\n",
    "inverted_index"
   ]
  },
  {
   "cell_type": "code",
   "execution_count": 35,
   "id": "1b929397",
   "metadata": {},
   "outputs": [
    {
     "name": "stdout",
     "output_type": "stream",
     "text": [
      "{1, 2}\n"
     ]
    }
   ],
   "source": [
    "# perform boolean operations on postings lists for Boolean search operations\n",
    "# 1. \"Python\" OR \"Pandas\"\n",
    "def boolean_or(postings_list_1, postings_list_2):\n",
    "    merged_postings_list = set()\n",
    "    for document_id in postings_list_1:\n",
    "        merged_postings_list.add(document_id)\n",
    "    for document_id in postings_list_2:\n",
    "        if document_id not in merged_postings_list:\n",
    "            merged_postings_list.add(document_id)\n",
    "    return merged_postings_list\n",
    "\n",
    "# Get the postings lists for \"Python\" and \"Pandas\"\n",
    "python_postings_list = inverted_index[\"python\"]\n",
    "pandas_postings_list = inverted_index[\"pandas\"]\n",
    "\n",
    "# Perform a Boolean OR operation on the postings lists\n",
    "merged_postings_list = boolean_or(python_postings_list, pandas_postings_list)\n",
    "\n",
    "# Print the merged postings list\n",
    "print(merged_postings_list)\n"
   ]
  },
  {
   "cell_type": "code",
   "execution_count": 36,
   "id": "80680485",
   "metadata": {},
   "outputs": [
    {
     "name": "stdout",
     "output_type": "stream",
     "text": [
      "set()\n"
     ]
    }
   ],
   "source": [
    "# 2. \"Python\" AND \"data\"\n",
    "def boolean_and(postings_list_1, postings_list_2):\n",
    "    merged_postings_list = set()\n",
    "    for document_id in postings_list_1:\n",
    "        if document_id in postings_list_2:\n",
    "            merged_postings_list.add(document_id)\n",
    "    return merged_postings_list\n",
    "\n",
    "# Get the postings lists for \"Python\" and \"data\"\n",
    "python_postings_list = inverted_index[\"python\"]\n",
    "data_postings_list = inverted_index[\"data\"]\n",
    "\n",
    "# Perform a Boolean AND operation on the postings lists\n",
    "merged_postings_list = boolean_and(python_postings_list, data_postings_list)\n",
    "\n",
    "# Print the merged postings list\n",
    "print(merged_postings_list)"
   ]
  }
 ],
 "metadata": {
  "kernelspec": {
   "display_name": "Python 3",
   "language": "python",
   "name": "python3"
  },
  "language_info": {
   "codemirror_mode": {
    "name": "ipython",
    "version": 3
   },
   "file_extension": ".py",
   "mimetype": "text/x-python",
   "name": "python",
   "nbconvert_exporter": "python",
   "pygments_lexer": "ipython3",
   "version": "3.11.5"
  }
 },
 "nbformat": 4,
 "nbformat_minor": 5
}
